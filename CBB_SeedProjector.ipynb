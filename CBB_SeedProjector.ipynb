{
 "cells": [
  {
   "cell_type": "code",
   "execution_count": 1,
   "id": "5b497aa5-a5bb-4f7d-b2c2-f54498fbd821",
   "metadata": {},
   "outputs": [],
   "source": [
    "import pandas as pd\n",
    "import numpy as np\n",
    "from sklearn.compose import ColumnTransformer\n",
    "from sklearn.pipeline import Pipeline\n",
    "from sklearn.impute import SimpleImputer\n",
    "from sklearn.preprocessing import OneHotEncoder\n",
    "from sklearn.ensemble import RandomForestRegressor\n",
    "from sklearn.model_selection import train_test_split, GridSearchCV\n",
    "%matplotlib inline\n",
    "import matplotlib.pyplot as plt"
   ]
  },
  {
   "cell_type": "code",
   "execution_count": 2,
   "id": "ea14b2d4-f452-49bc-9fe3-412821cff91f",
   "metadata": {},
   "outputs": [],
   "source": [
    "%config Completer.use_jedi = False"
   ]
  },
  {
   "cell_type": "code",
   "execution_count": 3,
   "id": "fedade33-73d0-488c-bd01-64ab1476f44f",
   "metadata": {},
   "outputs": [],
   "source": [
    "df = pd.read_csv(\"data/cbb.csv\")\n",
    "df20 = pd.read_csv(\"data/cbb20.csv\")\n",
    "df21 = pd.read_csv(\"data/cbb21.csv\")\n",
    "df = df.append(df20)\n",
    "df = df.append(df21)"
   ]
  },
  {
   "cell_type": "code",
   "execution_count": 4,
   "id": "c1a7a8eb-7c3d-4f9e-90ae-7d3bf6cd191c",
   "metadata": {},
   "outputs": [
    {
     "data": {
      "text/html": [
       "<div>\n",
       "<style scoped>\n",
       "    .dataframe tbody tr th:only-of-type {\n",
       "        vertical-align: middle;\n",
       "    }\n",
       "\n",
       "    .dataframe tbody tr th {\n",
       "        vertical-align: top;\n",
       "    }\n",
       "\n",
       "    .dataframe thead th {\n",
       "        text-align: right;\n",
       "    }\n",
       "</style>\n",
       "<table border=\"1\" class=\"dataframe\">\n",
       "  <thead>\n",
       "    <tr style=\"text-align: right;\">\n",
       "      <th></th>\n",
       "      <th>TEAM</th>\n",
       "      <th>CONF</th>\n",
       "      <th>G</th>\n",
       "      <th>W</th>\n",
       "      <th>ADJOE</th>\n",
       "      <th>ADJDE</th>\n",
       "      <th>BARTHAG</th>\n",
       "      <th>EFG_O</th>\n",
       "      <th>EFG_D</th>\n",
       "      <th>TOR</th>\n",
       "      <th>...</th>\n",
       "      <th>2P_O</th>\n",
       "      <th>2P_D</th>\n",
       "      <th>3P_O</th>\n",
       "      <th>3P_D</th>\n",
       "      <th>ADJ_T</th>\n",
       "      <th>WAB</th>\n",
       "      <th>POSTSEASON</th>\n",
       "      <th>SEED</th>\n",
       "      <th>YEAR</th>\n",
       "      <th>RK</th>\n",
       "    </tr>\n",
       "  </thead>\n",
       "  <tbody>\n",
       "    <tr>\n",
       "      <th>0</th>\n",
       "      <td>North Carolina</td>\n",
       "      <td>ACC</td>\n",
       "      <td>40</td>\n",
       "      <td>33</td>\n",
       "      <td>123.3</td>\n",
       "      <td>94.9</td>\n",
       "      <td>0.9531</td>\n",
       "      <td>52.6</td>\n",
       "      <td>48.1</td>\n",
       "      <td>15.4</td>\n",
       "      <td>...</td>\n",
       "      <td>53.9</td>\n",
       "      <td>44.6</td>\n",
       "      <td>32.7</td>\n",
       "      <td>36.2</td>\n",
       "      <td>71.7</td>\n",
       "      <td>8.6</td>\n",
       "      <td>2ND</td>\n",
       "      <td>1.0</td>\n",
       "      <td>2016.0</td>\n",
       "      <td>NaN</td>\n",
       "    </tr>\n",
       "    <tr>\n",
       "      <th>1</th>\n",
       "      <td>Wisconsin</td>\n",
       "      <td>B10</td>\n",
       "      <td>40</td>\n",
       "      <td>36</td>\n",
       "      <td>129.1</td>\n",
       "      <td>93.6</td>\n",
       "      <td>0.9758</td>\n",
       "      <td>54.8</td>\n",
       "      <td>47.7</td>\n",
       "      <td>12.4</td>\n",
       "      <td>...</td>\n",
       "      <td>54.8</td>\n",
       "      <td>44.7</td>\n",
       "      <td>36.5</td>\n",
       "      <td>37.5</td>\n",
       "      <td>59.3</td>\n",
       "      <td>11.3</td>\n",
       "      <td>2ND</td>\n",
       "      <td>1.0</td>\n",
       "      <td>2015.0</td>\n",
       "      <td>NaN</td>\n",
       "    </tr>\n",
       "    <tr>\n",
       "      <th>2</th>\n",
       "      <td>Michigan</td>\n",
       "      <td>B10</td>\n",
       "      <td>40</td>\n",
       "      <td>33</td>\n",
       "      <td>114.4</td>\n",
       "      <td>90.4</td>\n",
       "      <td>0.9375</td>\n",
       "      <td>53.9</td>\n",
       "      <td>47.7</td>\n",
       "      <td>14.0</td>\n",
       "      <td>...</td>\n",
       "      <td>54.7</td>\n",
       "      <td>46.8</td>\n",
       "      <td>35.2</td>\n",
       "      <td>33.2</td>\n",
       "      <td>65.9</td>\n",
       "      <td>6.9</td>\n",
       "      <td>2ND</td>\n",
       "      <td>3.0</td>\n",
       "      <td>2018.0</td>\n",
       "      <td>NaN</td>\n",
       "    </tr>\n",
       "    <tr>\n",
       "      <th>3</th>\n",
       "      <td>Texas Tech</td>\n",
       "      <td>B12</td>\n",
       "      <td>38</td>\n",
       "      <td>31</td>\n",
       "      <td>115.2</td>\n",
       "      <td>85.2</td>\n",
       "      <td>0.9696</td>\n",
       "      <td>53.5</td>\n",
       "      <td>43.0</td>\n",
       "      <td>17.7</td>\n",
       "      <td>...</td>\n",
       "      <td>52.8</td>\n",
       "      <td>41.9</td>\n",
       "      <td>36.5</td>\n",
       "      <td>29.7</td>\n",
       "      <td>67.5</td>\n",
       "      <td>7.0</td>\n",
       "      <td>2ND</td>\n",
       "      <td>3.0</td>\n",
       "      <td>2019.0</td>\n",
       "      <td>NaN</td>\n",
       "    </tr>\n",
       "    <tr>\n",
       "      <th>4</th>\n",
       "      <td>Gonzaga</td>\n",
       "      <td>WCC</td>\n",
       "      <td>39</td>\n",
       "      <td>37</td>\n",
       "      <td>117.8</td>\n",
       "      <td>86.3</td>\n",
       "      <td>0.9728</td>\n",
       "      <td>56.6</td>\n",
       "      <td>41.1</td>\n",
       "      <td>16.2</td>\n",
       "      <td>...</td>\n",
       "      <td>56.3</td>\n",
       "      <td>40.0</td>\n",
       "      <td>38.2</td>\n",
       "      <td>29.0</td>\n",
       "      <td>71.5</td>\n",
       "      <td>7.7</td>\n",
       "      <td>2ND</td>\n",
       "      <td>1.0</td>\n",
       "      <td>2017.0</td>\n",
       "      <td>NaN</td>\n",
       "    </tr>\n",
       "  </tbody>\n",
       "</table>\n",
       "<p>5 rows × 25 columns</p>\n",
       "</div>"
      ],
      "text/plain": [
       "             TEAM CONF   G   W  ADJOE  ADJDE  BARTHAG  EFG_O  EFG_D   TOR  \\\n",
       "0  North Carolina  ACC  40  33  123.3   94.9   0.9531   52.6   48.1  15.4   \n",
       "1       Wisconsin  B10  40  36  129.1   93.6   0.9758   54.8   47.7  12.4   \n",
       "2        Michigan  B10  40  33  114.4   90.4   0.9375   53.9   47.7  14.0   \n",
       "3      Texas Tech  B12  38  31  115.2   85.2   0.9696   53.5   43.0  17.7   \n",
       "4         Gonzaga  WCC  39  37  117.8   86.3   0.9728   56.6   41.1  16.2   \n",
       "\n",
       "   ...  2P_O  2P_D  3P_O  3P_D  ADJ_T   WAB  POSTSEASON  SEED    YEAR  RK  \n",
       "0  ...  53.9  44.6  32.7  36.2   71.7   8.6         2ND   1.0  2016.0 NaN  \n",
       "1  ...  54.8  44.7  36.5  37.5   59.3  11.3         2ND   1.0  2015.0 NaN  \n",
       "2  ...  54.7  46.8  35.2  33.2   65.9   6.9         2ND   3.0  2018.0 NaN  \n",
       "3  ...  52.8  41.9  36.5  29.7   67.5   7.0         2ND   3.0  2019.0 NaN  \n",
       "4  ...  56.3  40.0  38.2  29.0   71.5   7.7         2ND   1.0  2017.0 NaN  \n",
       "\n",
       "[5 rows x 25 columns]"
      ]
     },
     "execution_count": 4,
     "metadata": {},
     "output_type": "execute_result"
    }
   ],
   "source": [
    "df.head()"
   ]
  },
  {
   "cell_type": "code",
   "execution_count": 6,
   "id": "98d8d717-424e-4831-89e4-67a5b6b50611",
   "metadata": {},
   "outputs": [],
   "source": [
    "df.drop(\"YEAR\",axis=1,inplace=True)"
   ]
  },
  {
   "cell_type": "code",
   "execution_count": 7,
   "id": "d10a917b-2c3f-4178-a595-403e9e9de723",
   "metadata": {},
   "outputs": [
    {
     "data": {
      "text/plain": [
       "3155"
      ]
     },
     "execution_count": 7,
     "metadata": {},
     "output_type": "execute_result"
    }
   ],
   "source": [
    "len(df)"
   ]
  },
  {
   "cell_type": "code",
   "execution_count": 8,
   "id": "482bcad8-64bc-4576-b23f-619db01d06a8",
   "metadata": {},
   "outputs": [
    {
     "data": {
      "text/html": [
       "<div>\n",
       "<style scoped>\n",
       "    .dataframe tbody tr th:only-of-type {\n",
       "        vertical-align: middle;\n",
       "    }\n",
       "\n",
       "    .dataframe tbody tr th {\n",
       "        vertical-align: top;\n",
       "    }\n",
       "\n",
       "    .dataframe thead th {\n",
       "        text-align: right;\n",
       "    }\n",
       "</style>\n",
       "<table border=\"1\" class=\"dataframe\">\n",
       "  <thead>\n",
       "    <tr style=\"text-align: right;\">\n",
       "      <th></th>\n",
       "      <th>G</th>\n",
       "      <th>W</th>\n",
       "      <th>ADJOE</th>\n",
       "      <th>ADJDE</th>\n",
       "      <th>BARTHAG</th>\n",
       "      <th>EFG_O</th>\n",
       "      <th>EFG_D</th>\n",
       "      <th>TOR</th>\n",
       "      <th>TORD</th>\n",
       "      <th>ORB</th>\n",
       "      <th>...</th>\n",
       "      <th>FTR</th>\n",
       "      <th>FTRD</th>\n",
       "      <th>2P_O</th>\n",
       "      <th>2P_D</th>\n",
       "      <th>3P_O</th>\n",
       "      <th>3P_D</th>\n",
       "      <th>ADJ_T</th>\n",
       "      <th>WAB</th>\n",
       "      <th>SEED</th>\n",
       "      <th>RK</th>\n",
       "    </tr>\n",
       "  </thead>\n",
       "  <tbody>\n",
       "    <tr>\n",
       "      <th>count</th>\n",
       "      <td>3155.000000</td>\n",
       "      <td>3155.000000</td>\n",
       "      <td>3155.000000</td>\n",
       "      <td>3155.000000</td>\n",
       "      <td>3155.000000</td>\n",
       "      <td>3155.000000</td>\n",
       "      <td>3155.00000</td>\n",
       "      <td>3155.000000</td>\n",
       "      <td>3155.000000</td>\n",
       "      <td>3155.000000</td>\n",
       "      <td>...</td>\n",
       "      <td>3155.000000</td>\n",
       "      <td>3155.000000</td>\n",
       "      <td>3155.000000</td>\n",
       "      <td>3155.000000</td>\n",
       "      <td>3155.000000</td>\n",
       "      <td>3155.000000</td>\n",
       "      <td>3155.000000</td>\n",
       "      <td>3155.000000</td>\n",
       "      <td>544.000000</td>\n",
       "      <td>353.000000</td>\n",
       "    </tr>\n",
       "    <tr>\n",
       "      <th>mean</th>\n",
       "      <td>30.326783</td>\n",
       "      <td>15.822187</td>\n",
       "      <td>103.033534</td>\n",
       "      <td>103.035721</td>\n",
       "      <td>0.494284</td>\n",
       "      <td>49.799461</td>\n",
       "      <td>49.98168</td>\n",
       "      <td>18.803740</td>\n",
       "      <td>18.736070</td>\n",
       "      <td>29.410523</td>\n",
       "      <td>...</td>\n",
       "      <td>35.133154</td>\n",
       "      <td>35.398827</td>\n",
       "      <td>48.971442</td>\n",
       "      <td>49.131189</td>\n",
       "      <td>34.188399</td>\n",
       "      <td>34.366022</td>\n",
       "      <td>67.934263</td>\n",
       "      <td>-7.572773</td>\n",
       "      <td>8.801471</td>\n",
       "      <td>177.000000</td>\n",
       "    </tr>\n",
       "    <tr>\n",
       "      <th>std</th>\n",
       "      <td>3.982607</td>\n",
       "      <td>6.493186</td>\n",
       "      <td>7.315549</td>\n",
       "      <td>6.555014</td>\n",
       "      <td>0.255835</td>\n",
       "      <td>3.103111</td>\n",
       "      <td>2.91860</td>\n",
       "      <td>2.102912</td>\n",
       "      <td>2.215394</td>\n",
       "      <td>4.230349</td>\n",
       "      <td>...</td>\n",
       "      <td>5.397775</td>\n",
       "      <td>6.349662</td>\n",
       "      <td>3.377538</td>\n",
       "      <td>3.348170</td>\n",
       "      <td>2.791483</td>\n",
       "      <td>2.463415</td>\n",
       "      <td>3.159904</td>\n",
       "      <td>6.804114</td>\n",
       "      <td>4.674794</td>\n",
       "      <td>102.046558</td>\n",
       "    </tr>\n",
       "    <tr>\n",
       "      <th>min</th>\n",
       "      <td>5.000000</td>\n",
       "      <td>0.000000</td>\n",
       "      <td>76.600000</td>\n",
       "      <td>84.000000</td>\n",
       "      <td>0.005000</td>\n",
       "      <td>39.200000</td>\n",
       "      <td>39.60000</td>\n",
       "      <td>11.900000</td>\n",
       "      <td>10.200000</td>\n",
       "      <td>14.200000</td>\n",
       "      <td>...</td>\n",
       "      <td>19.600000</td>\n",
       "      <td>19.700000</td>\n",
       "      <td>37.700000</td>\n",
       "      <td>37.700000</td>\n",
       "      <td>24.800000</td>\n",
       "      <td>26.100000</td>\n",
       "      <td>57.200000</td>\n",
       "      <td>-25.200000</td>\n",
       "      <td>1.000000</td>\n",
       "      <td>1.000000</td>\n",
       "    </tr>\n",
       "    <tr>\n",
       "      <th>25%</th>\n",
       "      <td>29.000000</td>\n",
       "      <td>11.000000</td>\n",
       "      <td>98.000000</td>\n",
       "      <td>98.300000</td>\n",
       "      <td>0.281900</td>\n",
       "      <td>47.800000</td>\n",
       "      <td>48.00000</td>\n",
       "      <td>17.400000</td>\n",
       "      <td>17.200000</td>\n",
       "      <td>26.600000</td>\n",
       "      <td>...</td>\n",
       "      <td>31.300000</td>\n",
       "      <td>30.850000</td>\n",
       "      <td>46.700000</td>\n",
       "      <td>46.800000</td>\n",
       "      <td>32.300000</td>\n",
       "      <td>32.700000</td>\n",
       "      <td>65.900000</td>\n",
       "      <td>-12.600000</td>\n",
       "      <td>5.000000</td>\n",
       "      <td>89.000000</td>\n",
       "    </tr>\n",
       "    <tr>\n",
       "      <th>50%</th>\n",
       "      <td>31.000000</td>\n",
       "      <td>16.000000</td>\n",
       "      <td>102.700000</td>\n",
       "      <td>103.100000</td>\n",
       "      <td>0.476200</td>\n",
       "      <td>49.700000</td>\n",
       "      <td>49.90000</td>\n",
       "      <td>18.700000</td>\n",
       "      <td>18.600000</td>\n",
       "      <td>29.400000</td>\n",
       "      <td>...</td>\n",
       "      <td>34.900000</td>\n",
       "      <td>34.900000</td>\n",
       "      <td>48.900000</td>\n",
       "      <td>49.100000</td>\n",
       "      <td>34.100000</td>\n",
       "      <td>34.300000</td>\n",
       "      <td>68.000000</td>\n",
       "      <td>-7.900000</td>\n",
       "      <td>9.000000</td>\n",
       "      <td>177.000000</td>\n",
       "    </tr>\n",
       "    <tr>\n",
       "      <th>75%</th>\n",
       "      <td>33.000000</td>\n",
       "      <td>20.000000</td>\n",
       "      <td>107.800000</td>\n",
       "      <td>107.500000</td>\n",
       "      <td>0.713900</td>\n",
       "      <td>51.800000</td>\n",
       "      <td>52.00000</td>\n",
       "      <td>20.200000</td>\n",
       "      <td>20.100000</td>\n",
       "      <td>32.200000</td>\n",
       "      <td>...</td>\n",
       "      <td>38.700000</td>\n",
       "      <td>39.400000</td>\n",
       "      <td>51.200000</td>\n",
       "      <td>51.400000</td>\n",
       "      <td>36.000000</td>\n",
       "      <td>36.000000</td>\n",
       "      <td>70.000000</td>\n",
       "      <td>-3.000000</td>\n",
       "      <td>13.000000</td>\n",
       "      <td>265.000000</td>\n",
       "    </tr>\n",
       "    <tr>\n",
       "      <th>max</th>\n",
       "      <td>40.000000</td>\n",
       "      <td>38.000000</td>\n",
       "      <td>129.100000</td>\n",
       "      <td>124.000000</td>\n",
       "      <td>0.984200</td>\n",
       "      <td>61.000000</td>\n",
       "      <td>60.10000</td>\n",
       "      <td>27.100000</td>\n",
       "      <td>28.500000</td>\n",
       "      <td>43.600000</td>\n",
       "      <td>...</td>\n",
       "      <td>58.600000</td>\n",
       "      <td>60.700000</td>\n",
       "      <td>64.000000</td>\n",
       "      <td>61.200000</td>\n",
       "      <td>44.100000</td>\n",
       "      <td>43.100000</td>\n",
       "      <td>83.400000</td>\n",
       "      <td>13.100000</td>\n",
       "      <td>16.000000</td>\n",
       "      <td>353.000000</td>\n",
       "    </tr>\n",
       "  </tbody>\n",
       "</table>\n",
       "<p>8 rows × 21 columns</p>\n",
       "</div>"
      ],
      "text/plain": [
       "                 G            W        ADJOE        ADJDE      BARTHAG  \\\n",
       "count  3155.000000  3155.000000  3155.000000  3155.000000  3155.000000   \n",
       "mean     30.326783    15.822187   103.033534   103.035721     0.494284   \n",
       "std       3.982607     6.493186     7.315549     6.555014     0.255835   \n",
       "min       5.000000     0.000000    76.600000    84.000000     0.005000   \n",
       "25%      29.000000    11.000000    98.000000    98.300000     0.281900   \n",
       "50%      31.000000    16.000000   102.700000   103.100000     0.476200   \n",
       "75%      33.000000    20.000000   107.800000   107.500000     0.713900   \n",
       "max      40.000000    38.000000   129.100000   124.000000     0.984200   \n",
       "\n",
       "             EFG_O       EFG_D          TOR         TORD          ORB  ...  \\\n",
       "count  3155.000000  3155.00000  3155.000000  3155.000000  3155.000000  ...   \n",
       "mean     49.799461    49.98168    18.803740    18.736070    29.410523  ...   \n",
       "std       3.103111     2.91860     2.102912     2.215394     4.230349  ...   \n",
       "min      39.200000    39.60000    11.900000    10.200000    14.200000  ...   \n",
       "25%      47.800000    48.00000    17.400000    17.200000    26.600000  ...   \n",
       "50%      49.700000    49.90000    18.700000    18.600000    29.400000  ...   \n",
       "75%      51.800000    52.00000    20.200000    20.100000    32.200000  ...   \n",
       "max      61.000000    60.10000    27.100000    28.500000    43.600000  ...   \n",
       "\n",
       "               FTR         FTRD         2P_O         2P_D         3P_O  \\\n",
       "count  3155.000000  3155.000000  3155.000000  3155.000000  3155.000000   \n",
       "mean     35.133154    35.398827    48.971442    49.131189    34.188399   \n",
       "std       5.397775     6.349662     3.377538     3.348170     2.791483   \n",
       "min      19.600000    19.700000    37.700000    37.700000    24.800000   \n",
       "25%      31.300000    30.850000    46.700000    46.800000    32.300000   \n",
       "50%      34.900000    34.900000    48.900000    49.100000    34.100000   \n",
       "75%      38.700000    39.400000    51.200000    51.400000    36.000000   \n",
       "max      58.600000    60.700000    64.000000    61.200000    44.100000   \n",
       "\n",
       "              3P_D        ADJ_T          WAB        SEED          RK  \n",
       "count  3155.000000  3155.000000  3155.000000  544.000000  353.000000  \n",
       "mean     34.366022    67.934263    -7.572773    8.801471  177.000000  \n",
       "std       2.463415     3.159904     6.804114    4.674794  102.046558  \n",
       "min      26.100000    57.200000   -25.200000    1.000000    1.000000  \n",
       "25%      32.700000    65.900000   -12.600000    5.000000   89.000000  \n",
       "50%      34.300000    68.000000    -7.900000    9.000000  177.000000  \n",
       "75%      36.000000    70.000000    -3.000000   13.000000  265.000000  \n",
       "max      43.100000    83.400000    13.100000   16.000000  353.000000  \n",
       "\n",
       "[8 rows x 21 columns]"
      ]
     },
     "execution_count": 8,
     "metadata": {},
     "output_type": "execute_result"
    }
   ],
   "source": [
    "df.describe()"
   ]
  },
  {
   "cell_type": "code",
   "execution_count": 9,
   "id": "b8af53ec-a5d3-4bd1-8637-a02618a3e402",
   "metadata": {},
   "outputs": [],
   "source": [
    "df.drop([\"POSTSEASON\",\"RK\"],axis=1,inplace=True)"
   ]
  },
  {
   "cell_type": "code",
   "execution_count": 10,
   "id": "377d096b-5896-4d66-8105-a7e018ddac0a",
   "metadata": {},
   "outputs": [
    {
     "data": {
      "text/plain": [
       "Index(['TEAM', 'CONF', 'G', 'W', 'ADJOE', 'ADJDE', 'BARTHAG', 'EFG_O', 'EFG_D',\n",
       "       'TOR', 'TORD', 'ORB', 'DRB', 'FTR', 'FTRD', '2P_O', '2P_D', '3P_O',\n",
       "       '3P_D', 'ADJ_T', 'WAB', 'SEED'],\n",
       "      dtype='object')"
      ]
     },
     "execution_count": 10,
     "metadata": {},
     "output_type": "execute_result"
    }
   ],
   "source": [
    "df.columns"
   ]
  },
  {
   "cell_type": "code",
   "execution_count": 11,
   "id": "28b68a0b-d820-4f5f-82ce-ebc7df3415d4",
   "metadata": {},
   "outputs": [],
   "source": [
    "df[\"WIN_PCT\"] = df[\"W\"]/df[\"G\"]"
   ]
  },
  {
   "cell_type": "code",
   "execution_count": 12,
   "id": "e8ed0301-809d-46d3-914c-8a2fca046b83",
   "metadata": {},
   "outputs": [
    {
     "data": {
      "text/html": [
       "<div>\n",
       "<style scoped>\n",
       "    .dataframe tbody tr th:only-of-type {\n",
       "        vertical-align: middle;\n",
       "    }\n",
       "\n",
       "    .dataframe tbody tr th {\n",
       "        vertical-align: top;\n",
       "    }\n",
       "\n",
       "    .dataframe thead th {\n",
       "        text-align: right;\n",
       "    }\n",
       "</style>\n",
       "<table border=\"1\" class=\"dataframe\">\n",
       "  <thead>\n",
       "    <tr style=\"text-align: right;\">\n",
       "      <th></th>\n",
       "      <th>TEAM</th>\n",
       "      <th>CONF</th>\n",
       "      <th>G</th>\n",
       "      <th>W</th>\n",
       "      <th>ADJOE</th>\n",
       "      <th>ADJDE</th>\n",
       "      <th>BARTHAG</th>\n",
       "      <th>EFG_O</th>\n",
       "      <th>EFG_D</th>\n",
       "      <th>TOR</th>\n",
       "      <th>...</th>\n",
       "      <th>FTR</th>\n",
       "      <th>FTRD</th>\n",
       "      <th>2P_O</th>\n",
       "      <th>2P_D</th>\n",
       "      <th>3P_O</th>\n",
       "      <th>3P_D</th>\n",
       "      <th>ADJ_T</th>\n",
       "      <th>WAB</th>\n",
       "      <th>SEED</th>\n",
       "      <th>WIN_PCT</th>\n",
       "    </tr>\n",
       "  </thead>\n",
       "  <tbody>\n",
       "    <tr>\n",
       "      <th>0</th>\n",
       "      <td>North Carolina</td>\n",
       "      <td>ACC</td>\n",
       "      <td>40</td>\n",
       "      <td>33</td>\n",
       "      <td>123.3</td>\n",
       "      <td>94.9</td>\n",
       "      <td>0.9531</td>\n",
       "      <td>52.6</td>\n",
       "      <td>48.1</td>\n",
       "      <td>15.4</td>\n",
       "      <td>...</td>\n",
       "      <td>32.3</td>\n",
       "      <td>30.4</td>\n",
       "      <td>53.9</td>\n",
       "      <td>44.6</td>\n",
       "      <td>32.7</td>\n",
       "      <td>36.2</td>\n",
       "      <td>71.7</td>\n",
       "      <td>8.6</td>\n",
       "      <td>1.0</td>\n",
       "      <td>0.825000</td>\n",
       "    </tr>\n",
       "    <tr>\n",
       "      <th>1</th>\n",
       "      <td>Wisconsin</td>\n",
       "      <td>B10</td>\n",
       "      <td>40</td>\n",
       "      <td>36</td>\n",
       "      <td>129.1</td>\n",
       "      <td>93.6</td>\n",
       "      <td>0.9758</td>\n",
       "      <td>54.8</td>\n",
       "      <td>47.7</td>\n",
       "      <td>12.4</td>\n",
       "      <td>...</td>\n",
       "      <td>36.2</td>\n",
       "      <td>22.4</td>\n",
       "      <td>54.8</td>\n",
       "      <td>44.7</td>\n",
       "      <td>36.5</td>\n",
       "      <td>37.5</td>\n",
       "      <td>59.3</td>\n",
       "      <td>11.3</td>\n",
       "      <td>1.0</td>\n",
       "      <td>0.900000</td>\n",
       "    </tr>\n",
       "    <tr>\n",
       "      <th>2</th>\n",
       "      <td>Michigan</td>\n",
       "      <td>B10</td>\n",
       "      <td>40</td>\n",
       "      <td>33</td>\n",
       "      <td>114.4</td>\n",
       "      <td>90.4</td>\n",
       "      <td>0.9375</td>\n",
       "      <td>53.9</td>\n",
       "      <td>47.7</td>\n",
       "      <td>14.0</td>\n",
       "      <td>...</td>\n",
       "      <td>30.7</td>\n",
       "      <td>30.0</td>\n",
       "      <td>54.7</td>\n",
       "      <td>46.8</td>\n",
       "      <td>35.2</td>\n",
       "      <td>33.2</td>\n",
       "      <td>65.9</td>\n",
       "      <td>6.9</td>\n",
       "      <td>3.0</td>\n",
       "      <td>0.825000</td>\n",
       "    </tr>\n",
       "    <tr>\n",
       "      <th>3</th>\n",
       "      <td>Texas Tech</td>\n",
       "      <td>B12</td>\n",
       "      <td>38</td>\n",
       "      <td>31</td>\n",
       "      <td>115.2</td>\n",
       "      <td>85.2</td>\n",
       "      <td>0.9696</td>\n",
       "      <td>53.5</td>\n",
       "      <td>43.0</td>\n",
       "      <td>17.7</td>\n",
       "      <td>...</td>\n",
       "      <td>32.9</td>\n",
       "      <td>36.6</td>\n",
       "      <td>52.8</td>\n",
       "      <td>41.9</td>\n",
       "      <td>36.5</td>\n",
       "      <td>29.7</td>\n",
       "      <td>67.5</td>\n",
       "      <td>7.0</td>\n",
       "      <td>3.0</td>\n",
       "      <td>0.815789</td>\n",
       "    </tr>\n",
       "    <tr>\n",
       "      <th>4</th>\n",
       "      <td>Gonzaga</td>\n",
       "      <td>WCC</td>\n",
       "      <td>39</td>\n",
       "      <td>37</td>\n",
       "      <td>117.8</td>\n",
       "      <td>86.3</td>\n",
       "      <td>0.9728</td>\n",
       "      <td>56.6</td>\n",
       "      <td>41.1</td>\n",
       "      <td>16.2</td>\n",
       "      <td>...</td>\n",
       "      <td>39.0</td>\n",
       "      <td>26.9</td>\n",
       "      <td>56.3</td>\n",
       "      <td>40.0</td>\n",
       "      <td>38.2</td>\n",
       "      <td>29.0</td>\n",
       "      <td>71.5</td>\n",
       "      <td>7.7</td>\n",
       "      <td>1.0</td>\n",
       "      <td>0.948718</td>\n",
       "    </tr>\n",
       "  </tbody>\n",
       "</table>\n",
       "<p>5 rows × 23 columns</p>\n",
       "</div>"
      ],
      "text/plain": [
       "             TEAM CONF   G   W  ADJOE  ADJDE  BARTHAG  EFG_O  EFG_D   TOR  \\\n",
       "0  North Carolina  ACC  40  33  123.3   94.9   0.9531   52.6   48.1  15.4   \n",
       "1       Wisconsin  B10  40  36  129.1   93.6   0.9758   54.8   47.7  12.4   \n",
       "2        Michigan  B10  40  33  114.4   90.4   0.9375   53.9   47.7  14.0   \n",
       "3      Texas Tech  B12  38  31  115.2   85.2   0.9696   53.5   43.0  17.7   \n",
       "4         Gonzaga  WCC  39  37  117.8   86.3   0.9728   56.6   41.1  16.2   \n",
       "\n",
       "   ...   FTR  FTRD  2P_O  2P_D  3P_O  3P_D  ADJ_T   WAB  SEED   WIN_PCT  \n",
       "0  ...  32.3  30.4  53.9  44.6  32.7  36.2   71.7   8.6   1.0  0.825000  \n",
       "1  ...  36.2  22.4  54.8  44.7  36.5  37.5   59.3  11.3   1.0  0.900000  \n",
       "2  ...  30.7  30.0  54.7  46.8  35.2  33.2   65.9   6.9   3.0  0.825000  \n",
       "3  ...  32.9  36.6  52.8  41.9  36.5  29.7   67.5   7.0   3.0  0.815789  \n",
       "4  ...  39.0  26.9  56.3  40.0  38.2  29.0   71.5   7.7   1.0  0.948718  \n",
       "\n",
       "[5 rows x 23 columns]"
      ]
     },
     "execution_count": 12,
     "metadata": {},
     "output_type": "execute_result"
    }
   ],
   "source": [
    "df.head()"
   ]
  },
  {
   "cell_type": "code",
   "execution_count": 37,
   "id": "f242d987-aef8-4d3f-8f4c-59cbe0fb339d",
   "metadata": {},
   "outputs": [],
   "source": [
    "big_east = df[df[\"CONF\"]==\"BE\"]"
   ]
  },
  {
   "cell_type": "code",
   "execution_count": 38,
   "id": "32e813fe-6158-4c90-b6cb-19844037f615",
   "metadata": {},
   "outputs": [
    {
     "data": {
      "text/plain": [
       "0.5963315475856621"
      ]
     },
     "execution_count": 38,
     "metadata": {},
     "output_type": "execute_result"
    }
   ],
   "source": [
    "big_east.WIN_PCT.mean()"
   ]
  },
  {
   "cell_type": "code",
   "execution_count": 40,
   "id": "c6393bf0-79dd-40e0-921f-7096b6313a3c",
   "metadata": {},
   "outputs": [
    {
     "data": {
      "text/plain": [
       "0.5723587478792048"
      ]
     },
     "execution_count": 40,
     "metadata": {},
     "output_type": "execute_result"
    }
   ],
   "source": [
    "SEC = df[df[\"CONF\"]==\"SEC\"]\n",
    "SEC.WIN_PCT.mean()"
   ]
  },
  {
   "cell_type": "code",
   "execution_count": 46,
   "id": "d0402a37-a6cd-4b0e-8c82-bc4af49cf657",
   "metadata": {},
   "outputs": [
    {
     "data": {
      "text/plain": [
       "0.5477532970935726"
      ]
     },
     "execution_count": 46,
     "metadata": {},
     "output_type": "execute_result"
    }
   ],
   "source": [
    "WCC = df[df[\"CONF\"]==\"WCC\"]\n",
    "WCC.WIN_PCT.mean()"
   ]
  },
  {
   "cell_type": "code",
   "execution_count": 47,
   "id": "ef21e5c5-b20a-4375-8abf-30c0ef956da7",
   "metadata": {},
   "outputs": [
    {
     "data": {
      "text/plain": [
       "0.594378876566332"
      ]
     },
     "execution_count": 47,
     "metadata": {},
     "output_type": "execute_result"
    }
   ],
   "source": [
    "ACC = df[df[\"CONF\"]==\"ACC\"]\n",
    "ACC.WIN_PCT.mean()"
   ]
  },
  {
   "cell_type": "code",
   "execution_count": 49,
   "id": "7f8e9bd0-b096-4242-94f2-a4146d2b030f",
   "metadata": {},
   "outputs": [
    {
     "data": {
      "text/plain": [
       "0.5762606002746058"
      ]
     },
     "execution_count": 49,
     "metadata": {},
     "output_type": "execute_result"
    }
   ],
   "source": [
    "P12 = df[df[\"CONF\"]==\"P12\"]\n",
    "P12.WIN_PCT.mean()"
   ]
  },
  {
   "cell_type": "code",
   "execution_count": 50,
   "id": "ac6e2809-f59a-4dab-8454-1feecddae7d2",
   "metadata": {},
   "outputs": [
    {
     "data": {
      "text/plain": [
       "0.6052180833529733"
      ]
     },
     "execution_count": 50,
     "metadata": {},
     "output_type": "execute_result"
    }
   ],
   "source": [
    "B12 = df[df[\"CONF\"]==\"B12\"]\n",
    "B12.WIN_PCT.mean()"
   ]
  },
  {
   "cell_type": "code",
   "execution_count": 51,
   "id": "a25d325f-e12d-468b-8ba3-c1c207075ef0",
   "metadata": {},
   "outputs": [
    {
     "data": {
      "text/plain": [
       "0.5934010642769297"
      ]
     },
     "execution_count": 51,
     "metadata": {},
     "output_type": "execute_result"
    }
   ],
   "source": [
    "B10 = df[df[\"CONF\"]==\"B10\"]\n",
    "B10.WIN_PCT.mean()"
   ]
  },
  {
   "cell_type": "code",
   "execution_count": 13,
   "id": "103c3415-759b-469c-8700-8e46ae899f14",
   "metadata": {},
   "outputs": [
    {
     "data": {
      "text/plain": [
       "array(['ACC', 'B10', 'B12', 'WCC', 'SEC', 'BE', 'Amer', 'P12', 'A10',\n",
       "       'MVC', 'AE', 'ASun', 'BSky', 'BSth', 'BW', 'CAA', 'CUSA', 'Horz',\n",
       "       'Ind', 'Ivy', 'MAAC', 'MAC', 'MEAC', 'MWC', 'NEC', 'OVC', 'Pat',\n",
       "       'SB', 'SC', 'Slnd', 'Sum', 'SWAC', 'WAC', 'ind', 'GWC'],\n",
       "      dtype=object)"
      ]
     },
     "execution_count": 13,
     "metadata": {},
     "output_type": "execute_result"
    }
   ],
   "source": [
    "df.CONF.unique()"
   ]
  },
  {
   "cell_type": "code",
   "execution_count": 14,
   "id": "3466fe83-2343-450e-8052-36faf51e77b2",
   "metadata": {},
   "outputs": [],
   "source": [
    "p6 = ['A10',\n",
    "       'MVC', 'AE', 'ASun', 'BSky', 'BSth', 'BW', 'CAA', 'CUSA', 'Horz',\n",
    "       'Ind', 'Ivy', 'MAAC', 'MAC', 'MEAC', 'MWC', 'NEC', 'OVC', 'Pat',\n",
    "       'SB', 'SC', 'Slnd', 'Sum', 'SWAC', 'WAC', 'ind', 'GWC','WCC','Amer']\n",
    "power = df[~df.CONF.isin(p6)]"
   ]
  },
  {
   "cell_type": "code",
   "execution_count": 15,
   "id": "a8e37589-c4b7-4ba9-8a2d-ecd44ec102f2",
   "metadata": {},
   "outputs": [
    {
     "data": {
      "text/plain": [
       "0.5762606002746058"
      ]
     },
     "execution_count": 15,
     "metadata": {},
     "output_type": "execute_result"
    }
   ],
   "source": [
    "P12 = power[power[\"CONF\"]==\"P12\"]\n",
    "P12.WIN_PCT.mean()"
   ]
  },
  {
   "cell_type": "code",
   "execution_count": 16,
   "id": "a2b36a61-cfb8-461d-8132-e1ed96751aab",
   "metadata": {},
   "outputs": [
    {
     "name": "stderr",
     "output_type": "stream",
     "text": [
      "/Users/jackpiccione/opt/anaconda3/lib/python3.7/site-packages/seaborn/_decorators.py:43: FutureWarning: Pass the following variables as keyword args: x, y. From version 0.12, the only valid positional argument will be `data`, and passing other arguments without an explicit keyword will result in an error or misinterpretation.\n",
      "  FutureWarning\n"
     ]
    },
    {
     "data": {
      "image/png": "[encoded data removed]",
      "text/plain": [
       "<Figure size 720x432 with 1 Axes>"
      ]
     },
     "metadata": {},
     "output_type": "display_data"
    }
   ],
   "source": [
    "import seaborn as sns\n",
    "plt.style.use('seaborn')\n",
    "fig, ax = plt.subplots(figsize=(10, 6))\n",
    "ax = sns.boxplot('CONF', 'WIN_PCT', data= power)\n",
    "ax.set_title('Win Percentage BoxPlot for Top 6 CBB Conferences')\n",
    "ax.set_ylabel('Win Percentage')\n",
    "ax.set_xlabel('Conference')\n",
    "ax.axhline(power[\"WIN_PCT\"].mean(),\n",
    "           linestyle=\"--\",color='black');"
   ]
  },
  {
   "cell_type": "code",
   "execution_count": 17,
   "id": "c6fc8e9b-61c5-4af5-bbc6-cdb3849ee928",
   "metadata": {},
   "outputs": [],
   "source": [
    "power_seed = df.dropna()"
   ]
  },
  {
   "cell_type": "code",
   "execution_count": 18,
   "id": "beaf8947-40c5-4aa6-b35d-ad9cf756a1c2",
   "metadata": {},
   "outputs": [],
   "source": [
    "p6_seeds = power_seed[~power_seed.CONF.isin(p6)]"
   ]
  },
  {
   "cell_type": "code",
   "execution_count": 19,
   "id": "aef4daeb-5914-45c2-bc70-5c056473ac3f",
   "metadata": {},
   "outputs": [
    {
     "name": "stderr",
     "output_type": "stream",
     "text": [
      "/Users/jackpiccione/opt/anaconda3/lib/python3.7/site-packages/seaborn/_decorators.py:43: FutureWarning: Pass the following variables as keyword args: x, y. From version 0.12, the only valid positional argument will be `data`, and passing other arguments without an explicit keyword will result in an error or misinterpretation.\n",
      "  FutureWarning\n"
     ]
    },
    {
     "data": {
      "image/png": "[encoded data removed]",
      "text/plain": [
       "<Figure size 720x432 with 1 Axes>"
      ]
     },
     "metadata": {},
     "output_type": "display_data"
    }
   ],
   "source": [
    "import seaborn as sns\n",
    "plt.style.use('seaborn')\n",
    "fig, ax = plt.subplots(figsize=(10, 6))\n",
    "ax = sns.boxplot('CONF', 'SEED', data= p6_seeds)\n",
    "ax.invert_yaxis()\n",
    "ax.set_title('Seed BoxPlot for Top 6 CBB Conferences')\n",
    "ax.set_ylabel('Seed')\n",
    "ax.set_xlabel('Conference')\n",
    "ax.axhline(p6_seeds[\"SEED\"].mean(),\n",
    "           linestyle=\"--\",color='black');"
   ]
  },
  {
   "cell_type": "code",
   "execution_count": 20,
   "id": "4b08d30b-cc32-44ba-9915-4f16a2605075",
   "metadata": {},
   "outputs": [
    {
     "data": {
      "text/plain": [
       "Index(['TEAM', 'CONF', 'G', 'W', 'ADJOE', 'ADJDE', 'BARTHAG', 'EFG_O', 'EFG_D',\n",
       "       'TOR', 'TORD', 'ORB', 'DRB', 'FTR', 'FTRD', '2P_O', '2P_D', '3P_O',\n",
       "       '3P_D', 'ADJ_T', 'WAB', 'SEED', 'WIN_PCT'],\n",
       "      dtype='object')"
      ]
     },
     "execution_count": 20,
     "metadata": {},
     "output_type": "execute_result"
    }
   ],
   "source": [
    "df.columns"
   ]
  },
  {
   "cell_type": "code",
   "execution_count": 26,
   "id": "5e21d152-828a-430a-8ea1-1127c824c5e3",
   "metadata": {},
   "outputs": [
    {
     "data": {
      "image/png": "[encoded data removed]",
      "text/plain": [
       "<Figure size 720x432 with 1 Axes>"
      ]
     },
     "metadata": {},
     "output_type": "display_data"
    }
   ],
   "source": [
    "plt.style.use('seaborn')\n",
    "fig, ax = plt.subplots(figsize=(10, 6))\n",
    "ax = plt.hist('W',data= df,bins=15)"
   ]
  },
  {
   "cell_type": "code",
   "execution_count": 27,
   "id": "1e50a1c9-31e0-4d5a-89ed-4d01fe1c4659",
   "metadata": {},
   "outputs": [
    {
     "data": {
      "image/png": "[encoded data removed]",
      "text/plain": [
       "<Figure size 1080x720 with 2 Axes>"
      ]
     },
     "metadata": {},
     "output_type": "display_data"
    }
   ],
   "source": [
    "# Let's make it look a little prettier\n",
    "corr_matrix = df.corr()\n",
    "plt.figure(figsize=(15, 10))\n",
    "sns.heatmap(corr_matrix, \n",
    "            annot=True, \n",
    "            linewidths=0.5, \n",
    "            fmt= \".2f\", \n",
    "            cmap=\"YlGnBu\");"
   ]
  },
  {
   "cell_type": "code",
   "execution_count": 28,
   "id": "fa3a31a0-701c-4a6d-8b1b-63b2b8cd6237",
   "metadata": {},
   "outputs": [],
   "source": [
    "df.drop([\"ADJ_T\",\"FTR\",\"TORD\"],axis=1,inplace=True)"
   ]
  },
  {
   "cell_type": "code",
   "execution_count": 29,
   "id": "87dc7639-091e-4be9-9d65-04b59e6a621b",
   "metadata": {},
   "outputs": [
    {
     "data": {
      "text/plain": [
       "TEAM        object\n",
       "CONF        object\n",
       "G            int64\n",
       "W            int64\n",
       "ADJOE      float64\n",
       "ADJDE      float64\n",
       "BARTHAG    float64\n",
       "EFG_O      float64\n",
       "EFG_D      float64\n",
       "TOR        float64\n",
       "ORB        float64\n",
       "DRB        float64\n",
       "FTRD       float64\n",
       "2P_O       float64\n",
       "2P_D       float64\n",
       "3P_O       float64\n",
       "3P_D       float64\n",
       "WAB        float64\n",
       "SEED       float64\n",
       "WIN_PCT    float64\n",
       "dtype: object"
      ]
     },
     "execution_count": 29,
     "metadata": {},
     "output_type": "execute_result"
    }
   ],
   "source": [
    "df.dtypes"
   ]
  },
  {
   "cell_type": "code",
   "execution_count": 30,
   "id": "b865df59-6239-48aa-9868-70b256052a0f",
   "metadata": {},
   "outputs": [
    {
     "data": {
      "text/html": [
       "<div>\n",
       "<style scoped>\n",
       "    .dataframe tbody tr th:only-of-type {\n",
       "        vertical-align: middle;\n",
       "    }\n",
       "\n",
       "    .dataframe tbody tr th {\n",
       "        vertical-align: top;\n",
       "    }\n",
       "\n",
       "    .dataframe thead th {\n",
       "        text-align: right;\n",
       "    }\n",
       "</style>\n",
       "<table border=\"1\" class=\"dataframe\">\n",
       "  <thead>\n",
       "    <tr style=\"text-align: right;\">\n",
       "      <th></th>\n",
       "      <th>TEAM</th>\n",
       "      <th>CONF</th>\n",
       "      <th>G</th>\n",
       "      <th>W</th>\n",
       "      <th>ADJOE</th>\n",
       "      <th>ADJDE</th>\n",
       "      <th>BARTHAG</th>\n",
       "      <th>EFG_O</th>\n",
       "      <th>EFG_D</th>\n",
       "      <th>TOR</th>\n",
       "      <th>ORB</th>\n",
       "      <th>DRB</th>\n",
       "      <th>FTRD</th>\n",
       "      <th>2P_O</th>\n",
       "      <th>2P_D</th>\n",
       "      <th>3P_O</th>\n",
       "      <th>3P_D</th>\n",
       "      <th>WAB</th>\n",
       "      <th>SEED</th>\n",
       "      <th>WIN_PCT</th>\n",
       "    </tr>\n",
       "  </thead>\n",
       "  <tbody>\n",
       "    <tr>\n",
       "      <th>0</th>\n",
       "      <td>North Carolina</td>\n",
       "      <td>ACC</td>\n",
       "      <td>40</td>\n",
       "      <td>33</td>\n",
       "      <td>123.3</td>\n",
       "      <td>94.9</td>\n",
       "      <td>0.9531</td>\n",
       "      <td>52.6</td>\n",
       "      <td>48.1</td>\n",
       "      <td>15.4</td>\n",
       "      <td>40.7</td>\n",
       "      <td>30.0</td>\n",
       "      <td>30.4</td>\n",
       "      <td>53.9</td>\n",
       "      <td>44.6</td>\n",
       "      <td>32.7</td>\n",
       "      <td>36.2</td>\n",
       "      <td>8.6</td>\n",
       "      <td>1.0</td>\n",
       "      <td>0.825000</td>\n",
       "    </tr>\n",
       "    <tr>\n",
       "      <th>1</th>\n",
       "      <td>Wisconsin</td>\n",
       "      <td>B10</td>\n",
       "      <td>40</td>\n",
       "      <td>36</td>\n",
       "      <td>129.1</td>\n",
       "      <td>93.6</td>\n",
       "      <td>0.9758</td>\n",
       "      <td>54.8</td>\n",
       "      <td>47.7</td>\n",
       "      <td>12.4</td>\n",
       "      <td>32.1</td>\n",
       "      <td>23.7</td>\n",
       "      <td>22.4</td>\n",
       "      <td>54.8</td>\n",
       "      <td>44.7</td>\n",
       "      <td>36.5</td>\n",
       "      <td>37.5</td>\n",
       "      <td>11.3</td>\n",
       "      <td>1.0</td>\n",
       "      <td>0.900000</td>\n",
       "    </tr>\n",
       "    <tr>\n",
       "      <th>2</th>\n",
       "      <td>Michigan</td>\n",
       "      <td>B10</td>\n",
       "      <td>40</td>\n",
       "      <td>33</td>\n",
       "      <td>114.4</td>\n",
       "      <td>90.4</td>\n",
       "      <td>0.9375</td>\n",
       "      <td>53.9</td>\n",
       "      <td>47.7</td>\n",
       "      <td>14.0</td>\n",
       "      <td>25.5</td>\n",
       "      <td>24.9</td>\n",
       "      <td>30.0</td>\n",
       "      <td>54.7</td>\n",
       "      <td>46.8</td>\n",
       "      <td>35.2</td>\n",
       "      <td>33.2</td>\n",
       "      <td>6.9</td>\n",
       "      <td>3.0</td>\n",
       "      <td>0.825000</td>\n",
       "    </tr>\n",
       "    <tr>\n",
       "      <th>3</th>\n",
       "      <td>Texas Tech</td>\n",
       "      <td>B12</td>\n",
       "      <td>38</td>\n",
       "      <td>31</td>\n",
       "      <td>115.2</td>\n",
       "      <td>85.2</td>\n",
       "      <td>0.9696</td>\n",
       "      <td>53.5</td>\n",
       "      <td>43.0</td>\n",
       "      <td>17.7</td>\n",
       "      <td>27.4</td>\n",
       "      <td>28.7</td>\n",
       "      <td>36.6</td>\n",
       "      <td>52.8</td>\n",
       "      <td>41.9</td>\n",
       "      <td>36.5</td>\n",
       "      <td>29.7</td>\n",
       "      <td>7.0</td>\n",
       "      <td>3.0</td>\n",
       "      <td>0.815789</td>\n",
       "    </tr>\n",
       "    <tr>\n",
       "      <th>4</th>\n",
       "      <td>Gonzaga</td>\n",
       "      <td>WCC</td>\n",
       "      <td>39</td>\n",
       "      <td>37</td>\n",
       "      <td>117.8</td>\n",
       "      <td>86.3</td>\n",
       "      <td>0.9728</td>\n",
       "      <td>56.6</td>\n",
       "      <td>41.1</td>\n",
       "      <td>16.2</td>\n",
       "      <td>30.0</td>\n",
       "      <td>26.2</td>\n",
       "      <td>26.9</td>\n",
       "      <td>56.3</td>\n",
       "      <td>40.0</td>\n",
       "      <td>38.2</td>\n",
       "      <td>29.0</td>\n",
       "      <td>7.7</td>\n",
       "      <td>1.0</td>\n",
       "      <td>0.948718</td>\n",
       "    </tr>\n",
       "  </tbody>\n",
       "</table>\n",
       "</div>"
      ],
      "text/plain": [
       "             TEAM CONF   G   W  ADJOE  ADJDE  BARTHAG  EFG_O  EFG_D   TOR  \\\n",
       "0  North Carolina  ACC  40  33  123.3   94.9   0.9531   52.6   48.1  15.4   \n",
       "1       Wisconsin  B10  40  36  129.1   93.6   0.9758   54.8   47.7  12.4   \n",
       "2        Michigan  B10  40  33  114.4   90.4   0.9375   53.9   47.7  14.0   \n",
       "3      Texas Tech  B12  38  31  115.2   85.2   0.9696   53.5   43.0  17.7   \n",
       "4         Gonzaga  WCC  39  37  117.8   86.3   0.9728   56.6   41.1  16.2   \n",
       "\n",
       "    ORB   DRB  FTRD  2P_O  2P_D  3P_O  3P_D   WAB  SEED   WIN_PCT  \n",
       "0  40.7  30.0  30.4  53.9  44.6  32.7  36.2   8.6   1.0  0.825000  \n",
       "1  32.1  23.7  22.4  54.8  44.7  36.5  37.5  11.3   1.0  0.900000  \n",
       "2  25.5  24.9  30.0  54.7  46.8  35.2  33.2   6.9   3.0  0.825000  \n",
       "3  27.4  28.7  36.6  52.8  41.9  36.5  29.7   7.0   3.0  0.815789  \n",
       "4  30.0  26.2  26.9  56.3  40.0  38.2  29.0   7.7   1.0  0.948718  "
      ]
     },
     "execution_count": 30,
     "metadata": {},
     "output_type": "execute_result"
    }
   ],
   "source": [
    "df.head()"
   ]
  },
  {
   "cell_type": "code",
   "execution_count": 31,
   "id": "702dec3e-8977-42fd-aaf1-6743b37be2a2",
   "metadata": {},
   "outputs": [
    {
     "data": {
      "text/html": [
       "<div>\n",
       "<style scoped>\n",
       "    .dataframe tbody tr th:only-of-type {\n",
       "        vertical-align: middle;\n",
       "    }\n",
       "\n",
       "    .dataframe tbody tr th {\n",
       "        vertical-align: top;\n",
       "    }\n",
       "\n",
       "    .dataframe thead th {\n",
       "        text-align: right;\n",
       "    }\n",
       "</style>\n",
       "<table border=\"1\" class=\"dataframe\">\n",
       "  <thead>\n",
       "    <tr style=\"text-align: right;\">\n",
       "      <th></th>\n",
       "      <th>TEAM</th>\n",
       "      <th>CONF</th>\n",
       "      <th>G</th>\n",
       "      <th>W</th>\n",
       "      <th>ADJOE</th>\n",
       "      <th>ADJDE</th>\n",
       "      <th>BARTHAG</th>\n",
       "      <th>EFG_O</th>\n",
       "      <th>EFG_D</th>\n",
       "      <th>TOR</th>\n",
       "      <th>ORB</th>\n",
       "      <th>DRB</th>\n",
       "      <th>FTRD</th>\n",
       "      <th>2P_O</th>\n",
       "      <th>2P_D</th>\n",
       "      <th>3P_O</th>\n",
       "      <th>3P_D</th>\n",
       "      <th>WAB</th>\n",
       "      <th>SEED</th>\n",
       "      <th>WIN_PCT</th>\n",
       "    </tr>\n",
       "  </thead>\n",
       "  <tbody>\n",
       "    <tr>\n",
       "      <th>0</th>\n",
       "      <td>North Carolina</td>\n",
       "      <td>ACC</td>\n",
       "      <td>40</td>\n",
       "      <td>33</td>\n",
       "      <td>123.3</td>\n",
       "      <td>94.9</td>\n",
       "      <td>0.9531</td>\n",
       "      <td>52.6</td>\n",
       "      <td>48.1</td>\n",
       "      <td>15.4</td>\n",
       "      <td>40.7</td>\n",
       "      <td>30.0</td>\n",
       "      <td>30.4</td>\n",
       "      <td>53.9</td>\n",
       "      <td>44.6</td>\n",
       "      <td>32.7</td>\n",
       "      <td>36.2</td>\n",
       "      <td>8.6</td>\n",
       "      <td>1.0</td>\n",
       "      <td>0.825000</td>\n",
       "    </tr>\n",
       "    <tr>\n",
       "      <th>1</th>\n",
       "      <td>Wisconsin</td>\n",
       "      <td>B10</td>\n",
       "      <td>40</td>\n",
       "      <td>36</td>\n",
       "      <td>129.1</td>\n",
       "      <td>93.6</td>\n",
       "      <td>0.9758</td>\n",
       "      <td>54.8</td>\n",
       "      <td>47.7</td>\n",
       "      <td>12.4</td>\n",
       "      <td>32.1</td>\n",
       "      <td>23.7</td>\n",
       "      <td>22.4</td>\n",
       "      <td>54.8</td>\n",
       "      <td>44.7</td>\n",
       "      <td>36.5</td>\n",
       "      <td>37.5</td>\n",
       "      <td>11.3</td>\n",
       "      <td>1.0</td>\n",
       "      <td>0.900000</td>\n",
       "    </tr>\n",
       "    <tr>\n",
       "      <th>2</th>\n",
       "      <td>Michigan</td>\n",
       "      <td>B10</td>\n",
       "      <td>40</td>\n",
       "      <td>33</td>\n",
       "      <td>114.4</td>\n",
       "      <td>90.4</td>\n",
       "      <td>0.9375</td>\n",
       "      <td>53.9</td>\n",
       "      <td>47.7</td>\n",
       "      <td>14.0</td>\n",
       "      <td>25.5</td>\n",
       "      <td>24.9</td>\n",
       "      <td>30.0</td>\n",
       "      <td>54.7</td>\n",
       "      <td>46.8</td>\n",
       "      <td>35.2</td>\n",
       "      <td>33.2</td>\n",
       "      <td>6.9</td>\n",
       "      <td>3.0</td>\n",
       "      <td>0.825000</td>\n",
       "    </tr>\n",
       "    <tr>\n",
       "      <th>3</th>\n",
       "      <td>Texas Tech</td>\n",
       "      <td>B12</td>\n",
       "      <td>38</td>\n",
       "      <td>31</td>\n",
       "      <td>115.2</td>\n",
       "      <td>85.2</td>\n",
       "      <td>0.9696</td>\n",
       "      <td>53.5</td>\n",
       "      <td>43.0</td>\n",
       "      <td>17.7</td>\n",
       "      <td>27.4</td>\n",
       "      <td>28.7</td>\n",
       "      <td>36.6</td>\n",
       "      <td>52.8</td>\n",
       "      <td>41.9</td>\n",
       "      <td>36.5</td>\n",
       "      <td>29.7</td>\n",
       "      <td>7.0</td>\n",
       "      <td>3.0</td>\n",
       "      <td>0.815789</td>\n",
       "    </tr>\n",
       "    <tr>\n",
       "      <th>4</th>\n",
       "      <td>Gonzaga</td>\n",
       "      <td>WCC</td>\n",
       "      <td>39</td>\n",
       "      <td>37</td>\n",
       "      <td>117.8</td>\n",
       "      <td>86.3</td>\n",
       "      <td>0.9728</td>\n",
       "      <td>56.6</td>\n",
       "      <td>41.1</td>\n",
       "      <td>16.2</td>\n",
       "      <td>30.0</td>\n",
       "      <td>26.2</td>\n",
       "      <td>26.9</td>\n",
       "      <td>56.3</td>\n",
       "      <td>40.0</td>\n",
       "      <td>38.2</td>\n",
       "      <td>29.0</td>\n",
       "      <td>7.7</td>\n",
       "      <td>1.0</td>\n",
       "      <td>0.948718</td>\n",
       "    </tr>\n",
       "    <tr>\n",
       "      <th>...</th>\n",
       "      <td>...</td>\n",
       "      <td>...</td>\n",
       "      <td>...</td>\n",
       "      <td>...</td>\n",
       "      <td>...</td>\n",
       "      <td>...</td>\n",
       "      <td>...</td>\n",
       "      <td>...</td>\n",
       "      <td>...</td>\n",
       "      <td>...</td>\n",
       "      <td>...</td>\n",
       "      <td>...</td>\n",
       "      <td>...</td>\n",
       "      <td>...</td>\n",
       "      <td>...</td>\n",
       "      <td>...</td>\n",
       "      <td>...</td>\n",
       "      <td>...</td>\n",
       "      <td>...</td>\n",
       "      <td>...</td>\n",
       "    </tr>\n",
       "    <tr>\n",
       "      <th>63</th>\n",
       "      <td>Mount St. Mary's</td>\n",
       "      <td>NEC</td>\n",
       "      <td>22</td>\n",
       "      <td>12</td>\n",
       "      <td>95.7</td>\n",
       "      <td>100.6</td>\n",
       "      <td>0.3593</td>\n",
       "      <td>48.7</td>\n",
       "      <td>45.5</td>\n",
       "      <td>20.1</td>\n",
       "      <td>31.7</td>\n",
       "      <td>24.6</td>\n",
       "      <td>24.6</td>\n",
       "      <td>47.7</td>\n",
       "      <td>45.6</td>\n",
       "      <td>33.7</td>\n",
       "      <td>30.1</td>\n",
       "      <td>-7.2</td>\n",
       "      <td>16.0</td>\n",
       "      <td>0.545455</td>\n",
       "    </tr>\n",
       "    <tr>\n",
       "      <th>64</th>\n",
       "      <td>Hartford</td>\n",
       "      <td>AE</td>\n",
       "      <td>23</td>\n",
       "      <td>15</td>\n",
       "      <td>97.3</td>\n",
       "      <td>99.6</td>\n",
       "      <td>0.4345</td>\n",
       "      <td>50.4</td>\n",
       "      <td>47.6</td>\n",
       "      <td>19.0</td>\n",
       "      <td>24.8</td>\n",
       "      <td>28.6</td>\n",
       "      <td>25.0</td>\n",
       "      <td>51.3</td>\n",
       "      <td>50.7</td>\n",
       "      <td>32.7</td>\n",
       "      <td>28.7</td>\n",
       "      <td>-4.9</td>\n",
       "      <td>16.0</td>\n",
       "      <td>0.652174</td>\n",
       "    </tr>\n",
       "    <tr>\n",
       "      <th>65</th>\n",
       "      <td>Norfolk St.</td>\n",
       "      <td>MEAC</td>\n",
       "      <td>21</td>\n",
       "      <td>16</td>\n",
       "      <td>99.4</td>\n",
       "      <td>104.1</td>\n",
       "      <td>0.3698</td>\n",
       "      <td>49.7</td>\n",
       "      <td>47.4</td>\n",
       "      <td>17.8</td>\n",
       "      <td>28.8</td>\n",
       "      <td>28.7</td>\n",
       "      <td>42.0</td>\n",
       "      <td>46.1</td>\n",
       "      <td>47.2</td>\n",
       "      <td>37.4</td>\n",
       "      <td>31.7</td>\n",
       "      <td>-5.0</td>\n",
       "      <td>16.0</td>\n",
       "      <td>0.761905</td>\n",
       "    </tr>\n",
       "    <tr>\n",
       "      <th>66</th>\n",
       "      <td>Texas Southern</td>\n",
       "      <td>SWAC</td>\n",
       "      <td>23</td>\n",
       "      <td>16</td>\n",
       "      <td>97.3</td>\n",
       "      <td>103.5</td>\n",
       "      <td>0.3307</td>\n",
       "      <td>48.3</td>\n",
       "      <td>46.5</td>\n",
       "      <td>21.4</td>\n",
       "      <td>32.9</td>\n",
       "      <td>25.7</td>\n",
       "      <td>33.8</td>\n",
       "      <td>51.0</td>\n",
       "      <td>45.2</td>\n",
       "      <td>27.7</td>\n",
       "      <td>32.4</td>\n",
       "      <td>-4.5</td>\n",
       "      <td>16.0</td>\n",
       "      <td>0.695652</td>\n",
       "    </tr>\n",
       "    <tr>\n",
       "      <th>67</th>\n",
       "      <td>Appalachian St.</td>\n",
       "      <td>SB</td>\n",
       "      <td>24</td>\n",
       "      <td>17</td>\n",
       "      <td>99.0</td>\n",
       "      <td>104.4</td>\n",
       "      <td>0.3512</td>\n",
       "      <td>47.7</td>\n",
       "      <td>50.4</td>\n",
       "      <td>17.5</td>\n",
       "      <td>27.8</td>\n",
       "      <td>30.6</td>\n",
       "      <td>24.0</td>\n",
       "      <td>46.7</td>\n",
       "      <td>50.4</td>\n",
       "      <td>32.6</td>\n",
       "      <td>33.5</td>\n",
       "      <td>-7.7</td>\n",
       "      <td>16.0</td>\n",
       "      <td>0.708333</td>\n",
       "    </tr>\n",
       "  </tbody>\n",
       "</table>\n",
       "<p>544 rows × 20 columns</p>\n",
       "</div>"
      ],
      "text/plain": [
       "                TEAM  CONF   G   W  ADJOE  ADJDE  BARTHAG  EFG_O  EFG_D   TOR  \\\n",
       "0     North Carolina   ACC  40  33  123.3   94.9   0.9531   52.6   48.1  15.4   \n",
       "1          Wisconsin   B10  40  36  129.1   93.6   0.9758   54.8   47.7  12.4   \n",
       "2           Michigan   B10  40  33  114.4   90.4   0.9375   53.9   47.7  14.0   \n",
       "3         Texas Tech   B12  38  31  115.2   85.2   0.9696   53.5   43.0  17.7   \n",
       "4            Gonzaga   WCC  39  37  117.8   86.3   0.9728   56.6   41.1  16.2   \n",
       "..               ...   ...  ..  ..    ...    ...      ...    ...    ...   ...   \n",
       "63  Mount St. Mary's   NEC  22  12   95.7  100.6   0.3593   48.7   45.5  20.1   \n",
       "64          Hartford    AE  23  15   97.3   99.6   0.4345   50.4   47.6  19.0   \n",
       "65       Norfolk St.  MEAC  21  16   99.4  104.1   0.3698   49.7   47.4  17.8   \n",
       "66    Texas Southern  SWAC  23  16   97.3  103.5   0.3307   48.3   46.5  21.4   \n",
       "67   Appalachian St.    SB  24  17   99.0  104.4   0.3512   47.7   50.4  17.5   \n",
       "\n",
       "     ORB   DRB  FTRD  2P_O  2P_D  3P_O  3P_D   WAB  SEED   WIN_PCT  \n",
       "0   40.7  30.0  30.4  53.9  44.6  32.7  36.2   8.6   1.0  0.825000  \n",
       "1   32.1  23.7  22.4  54.8  44.7  36.5  37.5  11.3   1.0  0.900000  \n",
       "2   25.5  24.9  30.0  54.7  46.8  35.2  33.2   6.9   3.0  0.825000  \n",
       "3   27.4  28.7  36.6  52.8  41.9  36.5  29.7   7.0   3.0  0.815789  \n",
       "4   30.0  26.2  26.9  56.3  40.0  38.2  29.0   7.7   1.0  0.948718  \n",
       "..   ...   ...   ...   ...   ...   ...   ...   ...   ...       ...  \n",
       "63  31.7  24.6  24.6  47.7  45.6  33.7  30.1  -7.2  16.0  0.545455  \n",
       "64  24.8  28.6  25.0  51.3  50.7  32.7  28.7  -4.9  16.0  0.652174  \n",
       "65  28.8  28.7  42.0  46.1  47.2  37.4  31.7  -5.0  16.0  0.761905  \n",
       "66  32.9  25.7  33.8  51.0  45.2  27.7  32.4  -4.5  16.0  0.695652  \n",
       "67  27.8  30.6  24.0  46.7  50.4  32.6  33.5  -7.7  16.0  0.708333  \n",
       "\n",
       "[544 rows x 20 columns]"
      ]
     },
     "execution_count": 31,
     "metadata": {},
     "output_type": "execute_result"
    }
   ],
   "source": [
    "df1 = df.dropna()\n",
    "df1"
   ]
  },
  {
   "cell_type": "code",
   "execution_count": 32,
   "id": "d34340fe-4957-45fd-bab0-7685ac431c6b",
   "metadata": {},
   "outputs": [
    {
     "data": {
      "text/plain": [
       "0.9236146427571309"
      ]
     },
     "execution_count": 32,
     "metadata": {},
     "output_type": "execute_result"
    }
   ],
   "source": [
    "from sklearn.preprocessing import OneHotEncoder\n",
    "from sklearn.compose import ColumnTransformer\n",
    "from sklearn.model_selection import cross_val_score\n",
    "np.random.seed(42)\n",
    "X = df1.drop(\"SEED\",axis=1)\n",
    "y = df1[\"SEED\"]\n",
    "\n",
    "cats = [\"TEAM\", \"CONF\"]\n",
    "one_hot = OneHotEncoder()\n",
    "transformer = ColumnTransformer([(\"one_hot\", \n",
    "                                 one_hot, \n",
    "                                 cats)],\n",
    "                                 remainder=\"passthrough\")\n",
    "trans_X = transformer.fit_transform(X)\n",
    "trans_X\n",
    "\n",
    "X_train, X_test,y_train,y_test = train_test_split(trans_X,y,test_size=0.2)\n",
    "\n",
    "model=RandomForestRegressor().fit(X_train,y_train)\n",
    "model.score(X_test,y_test)"
   ]
  },
  {
   "cell_type": "code",
   "execution_count": 33,
   "id": "4e12c1d2-1d87-45aa-bf96-8f0a99971da8",
   "metadata": {},
   "outputs": [],
   "source": [
    "y_preds = model.predict(X_test)"
   ]
  },
  {
   "cell_type": "code",
   "execution_count": 34,
   "id": "d4b25cb0-2e77-421e-9330-58fe64f42908",
   "metadata": {},
   "outputs": [
    {
     "name": "stdout",
     "output_type": "stream",
     "text": [
      "Regression model metrics on the test set\n",
      "R^2: 92.36%\n",
      "MAE: 1.05348623853211\n",
      "MSE: 1.928529357798165\n"
     ]
    }
   ],
   "source": [
    "from sklearn.metrics import r2_score,mean_absolute_error,mean_squared_error\n",
    "print(\"Regression model metrics on the test set\")\n",
    "print(f\"R^2: {r2_score(y_test,y_preds)*100:.2f}%\")\n",
    "print(f\"MAE: {mean_absolute_error(y_test,y_preds)}\")\n",
    "print(f\"MSE: {mean_squared_error(y_test,y_preds)}\")"
   ]
  },
  {
   "cell_type": "code",
   "execution_count": 24,
   "id": "8ee09f31-b458-448e-a9a8-f994e5bf55fb",
   "metadata": {},
   "outputs": [],
   "source": [
    "from pprint import pprint\n",
    "from sklearn.model_selection import RandomizedSearchCV\n",
    "grid = {\"n_estimators\": [10,100,200,500,1200],\n",
    "        \"max_depth\":[None,5,10,20,30],\n",
    "        \"max_features\": [\"auto\",\"sqrt\"],\n",
    "        \"min_samples_split\": [2,4,6],\n",
    "        \"min_samples_leaf\": [1,2,4]}"
   ]
  },
  {
   "cell_type": "code",
   "execution_count": 25,
   "id": "7a26297d-1c29-4ab1-ac0f-454f52616964",
   "metadata": {},
   "outputs": [
    {
     "name": "stdout",
     "output_type": "stream",
     "text": [
      "Fitting 5 folds for each of 10 candidates, totalling 50 fits\n",
      "[CV] END max_depth=10, max_features=auto, min_samples_leaf=1, min_samples_split=6, n_estimators=1200; total time=   2.9s\n",
      "[CV] END max_depth=10, max_features=auto, min_samples_leaf=1, min_samples_split=6, n_estimators=1200; total time=   2.9s\n",
      "[CV] END max_depth=10, max_features=auto, min_samples_leaf=1, min_samples_split=6, n_estimators=1200; total time=   2.9s\n",
      "[CV] END max_depth=10, max_features=auto, min_samples_leaf=1, min_samples_split=6, n_estimators=1200; total time=   2.9s\n",
      "[CV] END max_depth=10, max_features=auto, min_samples_leaf=1, min_samples_split=6, n_estimators=1200; total time=   2.9s\n",
      "[CV] END max_depth=5, max_features=auto, min_samples_leaf=2, min_samples_split=6, n_estimators=10; total time=   0.0s\n",
      "[CV] END max_depth=5, max_features=auto, min_samples_leaf=2, min_samples_split=6, n_estimators=10; total time=   0.0s\n",
      "[CV] END max_depth=5, max_features=auto, min_samples_leaf=2, min_samples_split=6, n_estimators=10; total time=   0.0s\n",
      "[CV] END max_depth=5, max_features=auto, min_samples_leaf=2, min_samples_split=6, n_estimators=10; total time=   0.0s\n",
      "[CV] END max_depth=5, max_features=auto, min_samples_leaf=2, min_samples_split=6, n_estimators=10; total time=   0.0s\n",
      "[CV] END max_depth=None, max_features=auto, min_samples_leaf=2, min_samples_split=2, n_estimators=10; total time=   0.0s\n",
      "[CV] END max_depth=None, max_features=auto, min_samples_leaf=2, min_samples_split=2, n_estimators=10; total time=   0.0s\n",
      "[CV] END max_depth=None, max_features=auto, min_samples_leaf=2, min_samples_split=2, n_estimators=10; total time=   0.0s\n",
      "[CV] END max_depth=None, max_features=auto, min_samples_leaf=2, min_samples_split=2, n_estimators=10; total time=   0.0s\n",
      "[CV] END max_depth=None, max_features=auto, min_samples_leaf=2, min_samples_split=2, n_estimators=10; total time=   0.0s\n",
      "[CV] END max_depth=10, max_features=sqrt, min_samples_leaf=4, min_samples_split=6, n_estimators=1200; total time=   0.9s\n",
      "[CV] END max_depth=10, max_features=sqrt, min_samples_leaf=4, min_samples_split=6, n_estimators=1200; total time=   0.9s\n",
      "[CV] END max_depth=10, max_features=sqrt, min_samples_leaf=4, min_samples_split=6, n_estimators=1200; total time=   0.9s\n",
      "[CV] END max_depth=10, max_features=sqrt, min_samples_leaf=4, min_samples_split=6, n_estimators=1200; total time=   0.9s\n",
      "[CV] END max_depth=10, max_features=sqrt, min_samples_leaf=4, min_samples_split=6, n_estimators=1200; total time=   0.9s\n",
      "[CV] END max_depth=20, max_features=auto, min_samples_leaf=2, min_samples_split=2, n_estimators=1200; total time=   3.0s\n",
      "[CV] END max_depth=20, max_features=auto, min_samples_leaf=2, min_samples_split=2, n_estimators=1200; total time=   3.0s\n",
      "[CV] END max_depth=20, max_features=auto, min_samples_leaf=2, min_samples_split=2, n_estimators=1200; total time=   3.0s\n",
      "[CV] END max_depth=20, max_features=auto, min_samples_leaf=2, min_samples_split=2, n_estimators=1200; total time=   3.0s\n",
      "[CV] END max_depth=20, max_features=auto, min_samples_leaf=2, min_samples_split=2, n_estimators=1200; total time=   3.0s\n",
      "[CV] END max_depth=5, max_features=auto, min_samples_leaf=4, min_samples_split=6, n_estimators=10; total time=   0.0s\n",
      "[CV] END max_depth=5, max_features=auto, min_samples_leaf=4, min_samples_split=6, n_estimators=10; total time=   0.0s\n",
      "[CV] END max_depth=5, max_features=auto, min_samples_leaf=4, min_samples_split=6, n_estimators=10; total time=   0.0s\n",
      "[CV] END max_depth=5, max_features=auto, min_samples_leaf=4, min_samples_split=6, n_estimators=10; total time=   0.0s\n",
      "[CV] END max_depth=5, max_features=auto, min_samples_leaf=4, min_samples_split=6, n_estimators=10; total time=   0.0s\n",
      "[CV] END max_depth=30, max_features=sqrt, min_samples_leaf=4, min_samples_split=6, n_estimators=10; total time=   0.0s\n",
      "[CV] END max_depth=30, max_features=sqrt, min_samples_leaf=4, min_samples_split=6, n_estimators=10; total time=   0.0s\n",
      "[CV] END max_depth=30, max_features=sqrt, min_samples_leaf=4, min_samples_split=6, n_estimators=10; total time=   0.0s\n",
      "[CV] END max_depth=30, max_features=sqrt, min_samples_leaf=4, min_samples_split=6, n_estimators=10; total time=   0.0s\n",
      "[CV] END max_depth=30, max_features=sqrt, min_samples_leaf=4, min_samples_split=6, n_estimators=10; total time=   0.0s\n",
      "[CV] END max_depth=30, max_features=sqrt, min_samples_leaf=4, min_samples_split=2, n_estimators=10; total time=   0.0s\n",
      "[CV] END max_depth=30, max_features=sqrt, min_samples_leaf=4, min_samples_split=2, n_estimators=10; total time=   0.0s\n",
      "[CV] END max_depth=30, max_features=sqrt, min_samples_leaf=4, min_samples_split=2, n_estimators=10; total time=   0.0s\n",
      "[CV] END max_depth=30, max_features=sqrt, min_samples_leaf=4, min_samples_split=2, n_estimators=10; total time=   0.0s\n",
      "[CV] END max_depth=30, max_features=sqrt, min_samples_leaf=4, min_samples_split=2, n_estimators=10; total time=   0.0s\n",
      "[CV] END max_depth=None, max_features=sqrt, min_samples_leaf=2, min_samples_split=6, n_estimators=10; total time=   0.0s\n",
      "[CV] END max_depth=None, max_features=sqrt, min_samples_leaf=2, min_samples_split=6, n_estimators=10; total time=   0.0s\n",
      "[CV] END max_depth=None, max_features=sqrt, min_samples_leaf=2, min_samples_split=6, n_estimators=10; total time=   0.0s\n",
      "[CV] END max_depth=None, max_features=sqrt, min_samples_leaf=2, min_samples_split=6, n_estimators=10; total time=   0.0s\n",
      "[CV] END max_depth=None, max_features=sqrt, min_samples_leaf=2, min_samples_split=6, n_estimators=10; total time=   0.0s\n",
      "[CV] END max_depth=10, max_features=sqrt, min_samples_leaf=4, min_samples_split=2, n_estimators=200; total time=   0.2s\n",
      "[CV] END max_depth=10, max_features=sqrt, min_samples_leaf=4, min_samples_split=2, n_estimators=200; total time=   0.2s\n",
      "[CV] END max_depth=10, max_features=sqrt, min_samples_leaf=4, min_samples_split=2, n_estimators=200; total time=   0.2s\n",
      "[CV] END max_depth=10, max_features=sqrt, min_samples_leaf=4, min_samples_split=2, n_estimators=200; total time=   0.2s\n",
      "[CV] END max_depth=10, max_features=sqrt, min_samples_leaf=4, min_samples_split=2, n_estimators=200; total time=   0.2s\n"
     ]
    },
    {
     "data": {
      "text/plain": [
       "RandomizedSearchCV(cv=5, estimator=RandomForestRegressor(),\n",
       "                   param_distributions={'max_depth': [None, 5, 10, 20, 30],\n",
       "                                        'max_features': ['auto', 'sqrt'],\n",
       "                                        'min_samples_leaf': [1, 2, 4],\n",
       "                                        'min_samples_split': [2, 4, 6],\n",
       "                                        'n_estimators': [10, 100, 200, 500,\n",
       "                                                         1200]},\n",
       "                   verbose=2)"
      ]
     },
     "execution_count": 25,
     "metadata": {},
     "output_type": "execute_result"
    }
   ],
   "source": [
    "from sklearn.preprocessing import OneHotEncoder\n",
    "from sklearn.compose import ColumnTransformer\n",
    "from sklearn.model_selection import cross_val_score\n",
    "np.random.seed(42)\n",
    "X = df1.drop(\"SEED\",axis=1)\n",
    "y = df1[\"SEED\"]\n",
    "\n",
    "cats = [\"TEAM\", \"CONF\"]\n",
    "one_hot = OneHotEncoder()\n",
    "transformer = ColumnTransformer([(\"one_hot\", \n",
    "                                 one_hot, \n",
    "                                 cats)],\n",
    "                                 remainder=\"passthrough\")\n",
    "trans_X = transformer.fit_transform(X)\n",
    "trans_X\n",
    "\n",
    "X_train, X_test,y_train,y_test = train_test_split(trans_X,y,test_size=0.2)\n",
    "\n",
    "model=RandomForestRegressor()\n",
    "rs_model = RandomizedSearchCV(estimator=model,\n",
    "                           param_distributions=grid,\n",
    "                           n_iter=10,\n",
    "                           cv=5,\n",
    "                           verbose=2)\n",
    "rs_model.fit(X_train,y_train)"
   ]
  },
  {
   "cell_type": "code",
   "execution_count": 26,
   "id": "ea0911d2-07f8-4968-827e-def611853afb",
   "metadata": {},
   "outputs": [
    {
     "data": {
      "text/plain": [
       "0.925910177901612"
      ]
     },
     "execution_count": 26,
     "metadata": {},
     "output_type": "execute_result"
    }
   ],
   "source": [
    "rs_model.score(X_test,y_test)"
   ]
  },
  {
   "cell_type": "code",
   "execution_count": 27,
   "id": "7593d3b0-2d2d-4a00-9635-cbea9cee51a1",
   "metadata": {},
   "outputs": [
    {
     "data": {
      "text/plain": [
       "{'n_estimators': 1200,\n",
       " 'min_samples_split': 2,\n",
       " 'min_samples_leaf': 2,\n",
       " 'max_features': 'auto',\n",
       " 'max_depth': 20}"
      ]
     },
     "execution_count": 27,
     "metadata": {},
     "output_type": "execute_result"
    }
   ],
   "source": [
    "rs_model.best_params_"
   ]
  },
  {
   "cell_type": "code",
   "execution_count": 16,
   "id": "9ac088ae-bf50-464c-afb1-05b3ee7017cd",
   "metadata": {},
   "outputs": [
    {
     "data": {
      "text/plain": [
       "0.924674851894022"
      ]
     },
     "execution_count": 16,
     "metadata": {},
     "output_type": "execute_result"
    }
   ],
   "source": [
    "from sklearn.preprocessing import OneHotEncoder\n",
    "from sklearn.compose import ColumnTransformer\n",
    "from sklearn.model_selection import cross_val_score\n",
    "np.random.seed(42)\n",
    "X = df1.drop(\"SEED\",axis=1)\n",
    "y = df1[\"SEED\"]\n",
    "\n",
    "cats = [\"TEAM\", \"CONF\"]\n",
    "one_hot = OneHotEncoder()\n",
    "transformer = ColumnTransformer([(\"one_hot\", \n",
    "                                 one_hot, \n",
    "                                 cats)],\n",
    "                                 remainder=\"passthrough\")\n",
    "trans_X = transformer.fit_transform(X)\n",
    "trans_X\n",
    "\n",
    "X_train, X_test,y_train,y_test = train_test_split(trans_X,y,test_size=0.2)\n",
    "\n",
    "model=RandomForestRegressor(n_estimators = 1200,\n",
    " min_samples_split= 2,\n",
    " min_samples_leaf= 2,\n",
    " max_features= 'auto',\n",
    " max_depth= 20)\n",
    "\n",
    "model.fit(X_train,y_train)\n",
    "model.score(X_test,y_test)"
   ]
  },
  {
   "cell_type": "code",
   "execution_count": 17,
   "id": "2c2d4149-7100-4e1f-a548-a20c2812042e",
   "metadata": {},
   "outputs": [],
   "source": [
    "y_preds = model.predict(X_test)"
   ]
  },
  {
   "cell_type": "code",
   "execution_count": 18,
   "id": "f1ddbdee-f8ca-4723-bc89-08bb1c1c471a",
   "metadata": {},
   "outputs": [
    {
     "data": {
      "text/plain": [
       "array([0.00000000e+00, 0.00000000e+00, 0.00000000e+00, 9.88440903e-08,\n",
       "       0.00000000e+00, 0.00000000e+00, 4.21824192e-06, 1.89885337e-06,\n",
       "       3.18413889e-07, 0.00000000e+00, 2.81746198e-07, 0.00000000e+00,\n",
       "       5.83749145e-07, 0.00000000e+00, 0.00000000e+00, 0.00000000e+00,\n",
       "       0.00000000e+00, 1.66377612e-07, 1.33304002e-06, 4.14743429e-06,\n",
       "       0.00000000e+00, 0.00000000e+00, 0.00000000e+00, 0.00000000e+00,\n",
       "       0.00000000e+00, 9.83884085e-06, 0.00000000e+00, 0.00000000e+00,\n",
       "       0.00000000e+00, 0.00000000e+00, 0.00000000e+00, 3.40188768e-06,\n",
       "       0.00000000e+00, 2.49982605e-06, 1.60025354e-06, 4.43209770e-06,\n",
       "       1.70055679e-05, 0.00000000e+00, 0.00000000e+00, 0.00000000e+00,\n",
       "       3.89729460e-08, 0.00000000e+00, 0.00000000e+00, 5.17744908e-07,\n",
       "       0.00000000e+00, 2.94070485e-04, 6.46633333e-08, 0.00000000e+00,\n",
       "       0.00000000e+00, 0.00000000e+00, 0.00000000e+00, 0.00000000e+00,\n",
       "       0.00000000e+00, 3.40715346e-07, 0.00000000e+00, 2.98933906e-06,\n",
       "       0.00000000e+00, 0.00000000e+00, 0.00000000e+00, 0.00000000e+00,\n",
       "       0.00000000e+00, 0.00000000e+00, 0.00000000e+00, 0.00000000e+00,\n",
       "       0.00000000e+00, 0.00000000e+00, 1.93799511e-06, 0.00000000e+00,\n",
       "       0.00000000e+00, 0.00000000e+00, 0.00000000e+00, 1.23988509e-06,\n",
       "       1.26633839e-06, 0.00000000e+00, 1.07373188e-06, 0.00000000e+00,\n",
       "       0.00000000e+00, 0.00000000e+00, 0.00000000e+00, 1.25462663e-06,\n",
       "       0.00000000e+00, 0.00000000e+00, 3.44387205e-07, 0.00000000e+00,\n",
       "       0.00000000e+00, 0.00000000e+00, 0.00000000e+00, 0.00000000e+00,\n",
       "       0.00000000e+00, 0.00000000e+00, 0.00000000e+00, 1.34830754e-06,\n",
       "       3.35321563e-08, 4.28306350e-05, 3.65114858e-06, 0.00000000e+00,\n",
       "       0.00000000e+00, 0.00000000e+00, 0.00000000e+00, 7.16472634e-06,\n",
       "       7.63343973e-07, 0.00000000e+00, 0.00000000e+00, 1.24251091e-07,\n",
       "       0.00000000e+00, 8.59324421e-07, 0.00000000e+00, 5.67836587e-07,\n",
       "       0.00000000e+00, 0.00000000e+00, 8.39891034e-06, 0.00000000e+00,\n",
       "       0.00000000e+00, 1.38328024e-05, 0.00000000e+00, 0.00000000e+00,\n",
       "       0.00000000e+00, 0.00000000e+00, 0.00000000e+00, 0.00000000e+00,\n",
       "       0.00000000e+00, 0.00000000e+00, 0.00000000e+00, 9.20157052e-08,\n",
       "       0.00000000e+00, 4.52512686e-07, 1.07043284e-06, 3.44090260e-06,\n",
       "       0.00000000e+00, 0.00000000e+00, 2.34270450e-04, 0.00000000e+00,\n",
       "       0.00000000e+00, 0.00000000e+00, 0.00000000e+00, 0.00000000e+00,\n",
       "       0.00000000e+00, 5.41595621e-06, 4.57913240e-07, 0.00000000e+00,\n",
       "       1.58031236e-05, 0.00000000e+00, 0.00000000e+00, 0.00000000e+00,\n",
       "       0.00000000e+00, 0.00000000e+00, 0.00000000e+00, 6.08789437e-07,\n",
       "       8.31018646e-07, 0.00000000e+00, 1.11490635e-06, 0.00000000e+00,\n",
       "       0.00000000e+00, 0.00000000e+00, 0.00000000e+00, 1.11295688e-05,\n",
       "       0.00000000e+00, 7.53195617e-06, 0.00000000e+00, 5.25412908e-06,\n",
       "       0.00000000e+00, 3.61887882e-06, 0.00000000e+00, 3.30096764e-06,\n",
       "       0.00000000e+00, 0.00000000e+00, 0.00000000e+00, 0.00000000e+00,\n",
       "       0.00000000e+00, 0.00000000e+00, 0.00000000e+00, 0.00000000e+00,\n",
       "       2.90284204e-06, 0.00000000e+00, 0.00000000e+00, 0.00000000e+00,\n",
       "       0.00000000e+00, 0.00000000e+00, 1.30063339e-06, 0.00000000e+00,\n",
       "       5.49621813e-06, 1.85353227e-05, 2.58648453e-06, 0.00000000e+00,\n",
       "       9.31157116e-07, 0.00000000e+00, 1.31043271e-06, 0.00000000e+00,\n",
       "       0.00000000e+00, 0.00000000e+00, 0.00000000e+00, 1.86286709e-05,\n",
       "       0.00000000e+00, 0.00000000e+00, 1.29299053e-04, 1.28694050e-06,\n",
       "       6.65528678e-05, 0.00000000e+00, 0.00000000e+00, 0.00000000e+00,\n",
       "       3.83326162e-06, 0.00000000e+00, 3.39556685e-04, 2.23394753e-04,\n",
       "       1.46050949e-06, 4.95730581e-06, 2.40719402e-04, 2.21707436e-04,\n",
       "       6.64564335e-04, 1.49300394e-04, 1.23304897e-05, 5.26225924e-06,\n",
       "       4.44980734e-07, 2.16070480e-06, 2.70243453e-06, 6.40568806e-06,\n",
       "       8.75045222e-06, 2.13371370e-06, 6.48526511e-06, 2.27727195e-07,\n",
       "       2.01453003e-04, 2.21562520e-04, 0.00000000e+00, 3.69546029e-06,\n",
       "       1.39332792e-04, 4.60806567e-07, 8.14864161e-07, 1.96597510e-05,\n",
       "       4.54575850e-04, 3.24639079e-07, 8.21380831e-06, 5.79352632e-06,\n",
       "       1.52164236e-05, 5.19381361e-05, 2.64222296e-03, 4.33984961e-03,\n",
       "       3.44432524e-03, 3.95316622e-03, 1.58673897e-01, 2.56194765e-03,\n",
       "       3.13320820e-03, 3.76155499e-03, 3.20451402e-03, 4.44750338e-03,\n",
       "       3.08051480e-03, 3.78105769e-03, 4.92108276e-03, 3.22318434e-03,\n",
       "       4.18271480e-03, 7.75555848e-01, 1.10942053e-02])"
      ]
     },
     "execution_count": 18,
     "metadata": {},
     "output_type": "execute_result"
    }
   ],
   "source": [
    "model.feature_importances_"
   ]
  },
  {
   "cell_type": "code",
   "execution_count": 19,
   "id": "2cc97422-e3f5-4d22-a985-726a79bfa46d",
   "metadata": {},
   "outputs": [],
   "source": [
    "import seaborn as sns\n",
    "\n",
    "# Helper function for plotting feature importance\n",
    "def plot_features(columns, importances, n=20):\n",
    "    df = (pd.DataFrame({\"features\": columns,\n",
    "                        \"feature_importance\": importances})\n",
    "          .sort_values(\"feature_importance\", ascending=False)\n",
    "          .reset_index(drop=True))\n",
    "    \n",
    "    sns.barplot(x=\"feature_importance\",\n",
    "                y=\"features\",\n",
    "                data=df[:n],\n",
    "                orient=\"h\")"
   ]
  },
  {
   "cell_type": "code",
   "execution_count": 35,
   "id": "c7244d28-3954-466f-b41e-4823c6537d07",
   "metadata": {},
   "outputs": [],
   "source": [
    "compare = pd.DataFrame({'Prediction': y_preds, 'Test Data' : y_test})"
   ]
  },
  {
   "cell_type": "code",
   "execution_count": 36,
   "id": "dd1cf372-7b8f-4c56-8cb9-91b5c56cfe5f",
   "metadata": {},
   "outputs": [
    {
     "data": {
      "text/html": [
       "<div>\n",
       "<style scoped>\n",
       "    .dataframe tbody tr th:only-of-type {\n",
       "        vertical-align: middle;\n",
       "    }\n",
       "\n",
       "    .dataframe tbody tr th {\n",
       "        vertical-align: top;\n",
       "    }\n",
       "\n",
       "    .dataframe thead th {\n",
       "        text-align: right;\n",
       "    }\n",
       "</style>\n",
       "<table border=\"1\" class=\"dataframe\">\n",
       "  <thead>\n",
       "    <tr style=\"text-align: right;\">\n",
       "      <th></th>\n",
       "      <th>Prediction</th>\n",
       "      <th>Test Data</th>\n",
       "    </tr>\n",
       "  </thead>\n",
       "  <tbody>\n",
       "    <tr>\n",
       "      <th>2436</th>\n",
       "      <td>1.63</td>\n",
       "      <td>2.0</td>\n",
       "    </tr>\n",
       "    <tr>\n",
       "      <th>2236</th>\n",
       "      <td>11.18</td>\n",
       "      <td>12.0</td>\n",
       "    </tr>\n",
       "    <tr>\n",
       "      <th>2336</th>\n",
       "      <td>15.94</td>\n",
       "      <td>16.0</td>\n",
       "    </tr>\n",
       "    <tr>\n",
       "      <th>56</th>\n",
       "      <td>13.74</td>\n",
       "      <td>14.0</td>\n",
       "    </tr>\n",
       "    <tr>\n",
       "      <th>66</th>\n",
       "      <td>15.48</td>\n",
       "      <td>16.0</td>\n",
       "    </tr>\n",
       "    <tr>\n",
       "      <th>2056</th>\n",
       "      <td>6.08</td>\n",
       "      <td>10.0</td>\n",
       "    </tr>\n",
       "    <tr>\n",
       "      <th>2111</th>\n",
       "      <td>3.83</td>\n",
       "      <td>3.0</td>\n",
       "    </tr>\n",
       "    <tr>\n",
       "      <th>2055</th>\n",
       "      <td>2.49</td>\n",
       "      <td>4.0</td>\n",
       "    </tr>\n",
       "    <tr>\n",
       "      <th>2063</th>\n",
       "      <td>5.27</td>\n",
       "      <td>6.0</td>\n",
       "    </tr>\n",
       "    <tr>\n",
       "      <th>2361</th>\n",
       "      <td>14.13</td>\n",
       "      <td>14.0</td>\n",
       "    </tr>\n",
       "    <tr>\n",
       "      <th>6</th>\n",
       "      <td>3.74</td>\n",
       "      <td>4.0</td>\n",
       "    </tr>\n",
       "    <tr>\n",
       "      <th>2405</th>\n",
       "      <td>2.24</td>\n",
       "      <td>4.0</td>\n",
       "    </tr>\n",
       "    <tr>\n",
       "      <th>2396</th>\n",
       "      <td>10.43</td>\n",
       "      <td>13.0</td>\n",
       "    </tr>\n",
       "    <tr>\n",
       "      <th>2051</th>\n",
       "      <td>4.51</td>\n",
       "      <td>2.0</td>\n",
       "    </tr>\n",
       "    <tr>\n",
       "      <th>52</th>\n",
       "      <td>14.33</td>\n",
       "      <td>13.0</td>\n",
       "    </tr>\n",
       "  </tbody>\n",
       "</table>\n",
       "</div>"
      ],
      "text/plain": [
       "      Prediction  Test Data\n",
       "2436        1.63        2.0\n",
       "2236       11.18       12.0\n",
       "2336       15.94       16.0\n",
       "56         13.74       14.0\n",
       "66         15.48       16.0\n",
       "2056        6.08       10.0\n",
       "2111        3.83        3.0\n",
       "2055        2.49        4.0\n",
       "2063        5.27        6.0\n",
       "2361       14.13       14.0\n",
       "6           3.74        4.0\n",
       "2405        2.24        4.0\n",
       "2396       10.43       13.0\n",
       "2051        4.51        2.0\n",
       "52         14.33       13.0"
      ]
     },
     "execution_count": 36,
     "metadata": {},
     "output_type": "execute_result"
    }
   ],
   "source": [
    "compare.head(15)"
   ]
  },
  {
   "cell_type": "code",
   "execution_count": 48,
   "id": "e66a3fa2-532f-486c-a074-e307871002d4",
   "metadata": {},
   "outputs": [],
   "source": [
    "compare[\"difference\"] = compare[\"Test Data\"] - compare[\"Prediction\"]"
   ]
  },
  {
   "cell_type": "code",
   "execution_count": 47,
   "id": "2de84291-1370-4735-9367-9469c72087bc",
   "metadata": {},
   "outputs": [
    {
     "data": {
      "text/plain": [
       "'Ohio St.'"
      ]
     },
     "execution_count": 47,
     "metadata": {},
     "output_type": "execute_result"
    }
   ],
   "source": [
    "df1.at[2056,'TEAM']"
   ]
  },
  {
   "cell_type": "code",
   "execution_count": 37,
   "id": "a32df011-444e-4788-94df-1ed543db588c",
   "metadata": {},
   "outputs": [
    {
     "name": "stdout",
     "output_type": "stream",
     "text": [
      "Regression model metrics on the test set\n",
      "R^2: 92.47%\n",
      "MAE: 1.0572716510893116\n",
      "MSE: 1.9017618657067241\n"
     ]
    }
   ],
   "source": [
    "from sklearn.metrics import r2_score,mean_absolute_error,mean_squared_error\n",
    "print(\"Regression model metrics on the test set\")\n",
    "print(f\"R^2: {r2_score(y_test,y_preds)*100:.2f}%\")\n",
    "print(f\"MAE: {mean_absolute_error(y_test,y_preds)}\")\n",
    "print(f\"MSE: {mean_squared_error(y_test,y_preds)}\")"
   ]
  },
  {
   "cell_type": "code",
   "execution_count": 48,
   "id": "340045fe-b477-4aca-a190-2fc5526df3af",
   "metadata": {},
   "outputs": [
    {
     "data": {
      "text/plain": [
       "-1.0417824167850642"
      ]
     },
     "execution_count": 48,
     "metadata": {},
     "output_type": "execute_result"
    }
   ],
   "source": [
    "cv_mae = cross_val_score(model,\n",
    "                        trans_X,\n",
    "                        y,\n",
    "                        cv=5,\n",
    "                        scoring = \"neg_mean_absolute_error\")\n",
    "cv_mae.mean()"
   ]
  },
  {
   "cell_type": "code",
   "execution_count": null,
   "id": "be4af8f6-84ba-4a28-9331-a381dba2c05c",
   "metadata": {},
   "outputs": [],
   "source": []
  }
 ],
 "metadata": {
  "kernelspec": {
   "display_name": "Python 3",
   "language": "python",
   "name": "python3"
  },
  "language_info": {
   "codemirror_mode": {
    "name": "ipython",
    "version": 3
   },
   "file_extension": ".py",
   "mimetype": "text/x-python",
   "name": "python",
   "nbconvert_exporter": "python",
   "pygments_lexer": "ipython3",
   "version": "3.7.4"
  }
 },
 "nbformat": 4,
 "nbformat_minor": 5
}
